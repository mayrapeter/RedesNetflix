{
 "cells": [
  {
   "cell_type": "markdown",
   "metadata": {
    "cell_id": "00000-acabc5ca-6d19-4a0f-9ccc-ab92a590a95a",
    "output_cleared": false
   },
   "source": [
    "# **ANÁLISE 1 - ENTREGA**"
   ]
  },
  {
   "cell_type": "markdown",
   "metadata": {
    "cell_id": "00002-6c71d365-fb17-4156-b04a-842316c2eac6",
    "output_cleared": false
   },
   "source": [
    "![](https://media.giphy.com/media/oenruB2DKC7p6/giphy.gif)"
   ]
  },
  {
   "cell_type": "code",
   "execution_count": 1,
   "metadata": {
    "_kg_hide-input": true,
    "cell_id": "00004-8e95db37-3304-406c-b82c-4afdcf5b5ede",
    "execution_millis": 298,
    "execution_start": 1603669672321,
    "output_cleared": false,
    "source_hash": "2c8dfabc"
   },
   "outputs": [
    {
     "data": {
      "text/html": [
       "        <script type=\"text/javascript\">\n",
       "        window.PlotlyConfig = {MathJaxConfig: 'local'};\n",
       "        if (window.MathJax) {MathJax.Hub.Config({SVG: {font: \"STIX-Web\"}});}\n",
       "        if (typeof require !== 'undefined') {\n",
       "        require.undef(\"plotly\");\n",
       "        requirejs.config({\n",
       "            paths: {\n",
       "                'plotly': ['https://cdn.plot.ly/plotly-latest.min']\n",
       "            }\n",
       "        });\n",
       "        require(['plotly'], function(Plotly) {\n",
       "            window._Plotly = Plotly;\n",
       "        });\n",
       "        }\n",
       "        </script>\n",
       "        "
      ]
     },
     "metadata": {},
     "output_type": "display_data"
    }
   ],
   "source": [
    "import numpy as np # linear algebra\n",
    "import pandas as pd # data processing, CSV file I/O (e.g. pd.read_csv)import seaborn as sns\n",
    "import matplotlib.pyplot as plt\n",
    "import seaborn as sns\n",
    "import statsmodels.api as sm\n",
    "from itertools import combinations\n",
    "from scipy.stats import ttest_ind\n",
    "from scipy import stats\n",
    "import networkx as nx\n",
    "import unidecode\n",
    "import freeman as fm\n",
    "import io\n",
    "from collections import Counter\n",
    "from numpy import median\n",
    "import statistics \n"
   ]
  },
  {
   "cell_type": "markdown",
   "metadata": {
    "cell_id": "00005-8bc036f8-013f-4dc6-8f72-d7a477c6919a",
    "output_cleared": false
   },
   "source": [
    "# Loading the dataset"
   ]
  },
  {
   "cell_type": "code",
   "execution_count": 2,
   "metadata": {
    "_cell_guid": "79c7e3d0-c299-4dcb-8224-4455121ee9b0",
    "_kg_hide-input": false,
    "_kg_hide-output": false,
    "_uuid": "d629ff2d2480ee46fbb7e2d37f6b5fab8052498a",
    "cell_id": "00006-72f02d01-03a7-486d-92cc-d57adb8199a7",
    "execution_millis": 74,
    "execution_start": 1603669675821,
    "output_cleared": false,
    "source_hash": "b4ad9ce1"
   },
   "outputs": [],
   "source": [
    "netflix_overall=pd.read_csv(\"netflix_titles.csv\")"
   ]
  },
  {
   "cell_type": "code",
   "execution_count": 3,
   "metadata": {
    "_kg_hide-input": true,
    "cell_id": "00010-a2a97bb4-a6c8-480a-99ef-ea8eab8f65cb",
    "execution_millis": 2,
    "execution_start": 1603669680571,
    "output_cleared": false,
    "source_hash": "56f12367"
   },
   "outputs": [],
   "source": [
    "netflix_movies=netflix_overall[netflix_overall['type']=='Movie']"
   ]
  },
  {
   "cell_type": "markdown",
   "metadata": {},
   "source": [
    "## Contagem do paises dos filmes"
   ]
  },
  {
   "cell_type": "code",
   "execution_count": 4,
   "metadata": {},
   "outputs": [
    {
     "data": {
      "text/plain": [
       "United States                                                      1482\n",
       "India                                                               724\n",
       "United Kingdom                                                      170\n",
       "Canada                                                               88\n",
       "Spain                                                                80\n",
       "                                                                   ... \n",
       "China, India, Nepal                                                   1\n",
       "Spain, United Kingdom, United States                                  1\n",
       "Denmark, United Kingdom, South Africa, Sweden, Belgium                1\n",
       "Australia, France                                                     1\n",
       "France, Switzerland, Spain, United States, United Arab Emirates       1\n",
       "Name: country, Length: 482, dtype: int64"
      ]
     },
     "execution_count": 4,
     "metadata": {},
     "output_type": "execute_result"
    }
   ],
   "source": [
    "netflix_movies[\"country\"].value_counts()"
   ]
  },
  {
   "cell_type": "markdown",
   "metadata": {},
   "source": [
    "## Contagem do total de atores "
   ]
  },
  {
   "cell_type": "code",
   "execution_count": 5,
   "metadata": {
    "cell_id": "00011-86d519a0-42e9-43ff-94cc-c5d21b66b901",
    "execution_millis": 62,
    "execution_start": 1603669681322,
    "output_cleared": false,
    "source_hash": "ab559f8b"
   },
   "outputs": [
    {
     "name": "stdout",
     "output_type": "stream",
     "text": [
      "atores sem repetição: 19519\n",
      "atores com repetição: 28508\n"
     ]
    }
   ],
   "source": [
    "netflix_movies = netflix_movies.dropna(axis=0)\n",
    "cast = netflix_movies['cast']\n",
    "\n",
    "\n",
    "actors = []\n",
    "temp = []\n",
    "\n",
    "\n",
    "for i in cast:\n",
    "    temp = i.split(\",\")\n",
    "    for name in temp:\n",
    "        actors.append(name)\n",
    "        \n",
    "actors_unique = Counter(actors).keys()  \n",
    "print(\"atores sem repetição:\",len(actors_unique))\n",
    "print(\"atores com repetição:\", len(actors))\n",
    "#Counter(actors).values()\n",
    "\n"
   ]
  },
  {
   "cell_type": "code",
   "execution_count": 6,
   "metadata": {
    "cell_id": "00012-96830cd3-14af-4910-bcf0-0cae68e647b5",
    "execution_millis": 0,
    "execution_start": 1603669696000,
    "output_cleared": false,
    "source_hash": "d2a231ef",
    "tags": []
   },
   "outputs": [],
   "source": [
    "netflix_movies = netflix_movies.reset_index(drop=True)"
   ]
  },
  {
   "cell_type": "markdown",
   "metadata": {},
   "source": [
    "### Dividir os filmes por ano"
   ]
  },
  {
   "cell_type": "code",
   "execution_count": 7,
   "metadata": {
    "cell_id": "00012-3f900c4c-487e-42ff-bde2-94c39f51bf1b",
    "execution_millis": 929,
    "execution_start": 1603669696524,
    "output_cleared": false,
    "source_hash": "4a241c64",
    "tags": []
   },
   "outputs": [
    {
     "name": "stderr",
     "output_type": "stream",
     "text": [
      "<ipython-input-7-52d02a9510c0>:9: SettingWithCopyWarning:\n",
      "\n",
      "\n",
      "A value is trying to be set on a copy of a slice from a DataFrame\n",
      "\n",
      "See the caveats in the documentation: https://pandas.pydata.org/pandas-docs/stable/user_guide/indexing.html#returning-a-view-versus-a-copy\n",
      "\n",
      "<ipython-input-7-52d02a9510c0>:7: SettingWithCopyWarning:\n",
      "\n",
      "\n",
      "A value is trying to be set on a copy of a slice from a DataFrame\n",
      "\n",
      "See the caveats in the documentation: https://pandas.pydata.org/pandas-docs/stable/user_guide/indexing.html#returning-a-view-versus-a-copy\n",
      "\n",
      "<ipython-input-7-52d02a9510c0>:15: SettingWithCopyWarning:\n",
      "\n",
      "\n",
      "A value is trying to be set on a copy of a slice from a DataFrame\n",
      "\n",
      "See the caveats in the documentation: https://pandas.pydata.org/pandas-docs/stable/user_guide/indexing.html#returning-a-view-versus-a-copy\n",
      "\n",
      "<ipython-input-7-52d02a9510c0>:13: SettingWithCopyWarning:\n",
      "\n",
      "\n",
      "A value is trying to be set on a copy of a slice from a DataFrame\n",
      "\n",
      "See the caveats in the documentation: https://pandas.pydata.org/pandas-docs/stable/user_guide/indexing.html#returning-a-view-versus-a-copy\n",
      "\n",
      "<ipython-input-7-52d02a9510c0>:19: SettingWithCopyWarning:\n",
      "\n",
      "\n",
      "A value is trying to be set on a copy of a slice from a DataFrame\n",
      "\n",
      "See the caveats in the documentation: https://pandas.pydata.org/pandas-docs/stable/user_guide/indexing.html#returning-a-view-versus-a-copy\n",
      "\n",
      "<ipython-input-7-52d02a9510c0>:21: SettingWithCopyWarning:\n",
      "\n",
      "\n",
      "A value is trying to be set on a copy of a slice from a DataFrame\n",
      "\n",
      "See the caveats in the documentation: https://pandas.pydata.org/pandas-docs/stable/user_guide/indexing.html#returning-a-view-versus-a-copy\n",
      "\n",
      "<ipython-input-7-52d02a9510c0>:25: SettingWithCopyWarning:\n",
      "\n",
      "\n",
      "A value is trying to be set on a copy of a slice from a DataFrame\n",
      "\n",
      "See the caveats in the documentation: https://pandas.pydata.org/pandas-docs/stable/user_guide/indexing.html#returning-a-view-versus-a-copy\n",
      "\n",
      "<ipython-input-7-52d02a9510c0>:27: SettingWithCopyWarning:\n",
      "\n",
      "\n",
      "A value is trying to be set on a copy of a slice from a DataFrame\n",
      "\n",
      "See the caveats in the documentation: https://pandas.pydata.org/pandas-docs/stable/user_guide/indexing.html#returning-a-view-versus-a-copy\n",
      "\n"
     ]
    }
   ],
   "source": [
    "netflix_movies['added_2017'] = False\n",
    "netflix_movies['added_2018'] = False\n",
    "netflix_movies['added_2019'] = False\n",
    "netflix_movies['added_3'] = False\n",
    "for i in range(0, len(netflix_movies)):\n",
    "    if (netflix_movies['date_added'][i][-4:] == '2017'):\n",
    "        netflix_movies['added_2017'][i] = True\n",
    "    else:\n",
    "        netflix_movies['added_2017'][i] = False\n",
    "\n",
    "for i in range(0, len(netflix_movies)):\n",
    "    if (netflix_movies['date_added'][i][-4:] == '2018'):\n",
    "        netflix_movies['added_2018'][i] = True\n",
    "    else:\n",
    "        netflix_movies['added_2018'][i] = False\n",
    "\n",
    "for i in range(0, len(netflix_movies)):\n",
    "    if (netflix_movies['date_added'][i][-4:] == '2019'):\n",
    "        netflix_movies['added_2019'][i] = True\n",
    "    else:\n",
    "        netflix_movies['added_2019'][i] = False\n",
    "        \n",
    "for i in range(0, len(netflix_movies)):\n",
    "    if (netflix_movies['date_added'][i][-4:] == '2017') or (netflix_movies['date_added'][i][-4:] == '2018') or (netflix_movies['date_added'][i][-4:] == '2019'):\n",
    "        netflix_movies['added_3'][i] = True\n",
    "    else:\n",
    "        netflix_movies['added_3'][i] = False"
   ]
  },
  {
   "cell_type": "code",
   "execution_count": 8,
   "metadata": {
    "cell_id": "00012-c30476e6-e9ea-4f2d-b6d4-d8ebe11e4f40",
    "execution_millis": 9,
    "execution_start": 1603669697457,
    "output_cleared": false,
    "source_hash": "ed684a8e"
   },
   "outputs": [],
   "source": [
    "netflix_movies_2017 = netflix_movies[netflix_movies.added_2017 == True]\n",
    "netflix_movies_2018 = netflix_movies[netflix_movies.added_2018 == True]\n",
    "netflix_movies_2019 = netflix_movies[netflix_movies.added_2019 == True]\n",
    "netflix_movies_3 = netflix_movies[netflix_movies.added_3 == True]\n",
    "\n",
    "genre_2017 = netflix_movies_2017['listed_in']\n",
    "genre_count_2017 = pd.Series(dict(Counter(','.join(genre_2017).replace(' ,',',').replace(', ',',')\n",
    "                                    .split(',')))).sort_values(ascending=False)\n",
    "\n",
    "genre_2018 = netflix_movies_2018['listed_in']\n",
    "genre_count_2018 = pd.Series(dict(Counter(','.join(genre_2018).replace(' ,',',').replace(', ',',')\n",
    "                                    .split(',')))).sort_values(ascending=False)\n",
    "\n",
    "genre_2019 = netflix_movies_2019['listed_in']\n",
    "genre_count_2019 = pd.Series(dict(Counter(','.join(genre_2019).replace(' ,',',').replace(', ',',')\n",
    "                                    .split(',')))).sort_values(ascending=False)\n",
    "genre_3 = netflix_movies_3['listed_in']\n",
    "genre_count_3 = pd.Series(dict(Counter(','.join(genre_3).replace(' ,',',').replace(', ',',')\n",
    "                                    .split(',')))).sort_values(ascending=False)"
   ]
  },
  {
   "cell_type": "code",
   "execution_count": 11,
   "metadata": {
    "scrolled": true
   },
   "outputs": [
    {
     "data": {
      "text/plain": [
       "International Movies        1620\n",
       "Dramas                      1435\n",
       "Comedies                     936\n",
       "Action & Adventure           527\n",
       "Independent Movies           489\n",
       "Thrillers                    344\n",
       "Romantic Movies              341\n",
       "Children & Family Movies     264\n",
       "Documentaries                261\n",
       "Horror Movies                218\n",
       "Stand-Up Comedy              187\n",
       "Music & Musicals             175\n",
       "Sci-Fi & Fantasy             153\n",
       "Sports Movies                 97\n",
       "Classic Movies                64\n",
       "LGBTQ Movies                  48\n",
       "Cult Movies                   43\n",
       "Faith & Spirituality          39\n",
       "Anime Features                36\n",
       "Movies                        16\n",
       "dtype: int64"
      ]
     },
     "execution_count": 11,
     "metadata": {},
     "output_type": "execute_result"
    }
   ],
   "source": [
    "# GMP \n",
    "\n",
    "genre_count_3"
   ]
  },
  {
   "cell_type": "code",
   "execution_count": 15,
   "metadata": {},
   "outputs": [],
   "source": [
    "sum3 = sum(genre_count_3)\n",
    "genre_count_3 = genre_count_3.to_frame()\n",
    "genre_count_3[0] = genre_count_3[0].astype(float)"
   ]
  },
  {
   "cell_type": "code",
   "execution_count": 19,
   "metadata": {},
   "outputs": [],
   "source": [
    "for i in range(len(genre_count_3)):\n",
    "    temp = genre_count_3[0][i]/sum3\n",
    "    genre_count_3[0][i] = temp"
   ]
  },
  {
   "cell_type": "code",
   "execution_count": 20,
   "metadata": {
    "cell_id": "00015-6b2c5f99-aa0c-4e99-bc2c-249f20740c78",
    "execution_millis": 2,
    "execution_start": 1603670762513,
    "output_cleared": false,
    "source_hash": "46fc035c",
    "tags": []
   },
   "outputs": [],
   "source": [
    "actors_and_genres3 = netflix_movies_3.iloc[:, [4, 10]]"
   ]
  },
  {
   "cell_type": "code",
   "execution_count": 21,
   "metadata": {},
   "outputs": [
    {
     "data": {
      "text/html": [
       "<div>\n",
       "<style scoped>\n",
       "    .dataframe tbody tr th:only-of-type {\n",
       "        vertical-align: middle;\n",
       "    }\n",
       "\n",
       "    .dataframe tbody tr th {\n",
       "        vertical-align: top;\n",
       "    }\n",
       "\n",
       "    .dataframe thead th {\n",
       "        text-align: right;\n",
       "    }\n",
       "</style>\n",
       "<table border=\"1\" class=\"dataframe\">\n",
       "  <thead>\n",
       "    <tr style=\"text-align: right;\">\n",
       "      <th></th>\n",
       "      <th>cast</th>\n",
       "      <th>listed_in</th>\n",
       "    </tr>\n",
       "  </thead>\n",
       "  <tbody>\n",
       "    <tr>\n",
       "      <th>0</th>\n",
       "      <td>Alan Marriott, Andrew Toth, Brian Dobson, Cole...</td>\n",
       "      <td>Children &amp; Family Movies, Comedies</td>\n",
       "    </tr>\n",
       "    <tr>\n",
       "      <th>1</th>\n",
       "      <td>Nesta Cooper, Kate Walsh, John Michael Higgins...</td>\n",
       "      <td>Comedies</td>\n",
       "    </tr>\n",
       "    <tr>\n",
       "      <th>2</th>\n",
       "      <td>Antonio Banderas, Dylan McDermott, Melanie Gri...</td>\n",
       "      <td>International Movies, Sci-Fi &amp; Fantasy, Thrillers</td>\n",
       "    </tr>\n",
       "    <tr>\n",
       "      <th>3</th>\n",
       "      <td>Fabrizio Copano</td>\n",
       "      <td>Stand-Up Comedy</td>\n",
       "    </tr>\n",
       "    <tr>\n",
       "      <th>4</th>\n",
       "      <td>James Franco, Kate Hudson, Tom Wilkinson, Omar...</td>\n",
       "      <td>Action &amp; Adventure, Thrillers</td>\n",
       "    </tr>\n",
       "    <tr>\n",
       "      <th>...</th>\n",
       "      <td>...</td>\n",
       "      <td>...</td>\n",
       "    </tr>\n",
       "    <tr>\n",
       "      <th>3670</th>\n",
       "      <td>Abbie Cornish, Diego Klattenhoff, Justin Long,...</td>\n",
       "      <td>Dramas, International Movies, Thrillers</td>\n",
       "    </tr>\n",
       "    <tr>\n",
       "      <th>3671</th>\n",
       "      <td>Shashi Kapoor, Sulakshana Pandit, Mehmood, Sud...</td>\n",
       "      <td>Action &amp; Adventure, International Movies, Musi...</td>\n",
       "    </tr>\n",
       "    <tr>\n",
       "      <th>3672</th>\n",
       "      <td>Ana Polvorosa, Candela Peña, Macarena Gómez, C...</td>\n",
       "      <td>Dramas, International Movies</td>\n",
       "    </tr>\n",
       "    <tr>\n",
       "      <th>3673</th>\n",
       "      <td>Alan Sabbagh, Julieta Zylberberg, Usher Barilk...</td>\n",
       "      <td>Dramas, International Movies</td>\n",
       "    </tr>\n",
       "    <tr>\n",
       "      <th>3674</th>\n",
       "      <td>Mario Casas, Luis Tosar, José Sacristán, Claud...</td>\n",
       "      <td>Dramas, International Movies, Thrillers</td>\n",
       "    </tr>\n",
       "  </tbody>\n",
       "</table>\n",
       "<p>3247 rows × 2 columns</p>\n",
       "</div>"
      ],
      "text/plain": [
       "                                                   cast  \\\n",
       "0     Alan Marriott, Andrew Toth, Brian Dobson, Cole...   \n",
       "1     Nesta Cooper, Kate Walsh, John Michael Higgins...   \n",
       "2     Antonio Banderas, Dylan McDermott, Melanie Gri...   \n",
       "3                                       Fabrizio Copano   \n",
       "4     James Franco, Kate Hudson, Tom Wilkinson, Omar...   \n",
       "...                                                 ...   \n",
       "3670  Abbie Cornish, Diego Klattenhoff, Justin Long,...   \n",
       "3671  Shashi Kapoor, Sulakshana Pandit, Mehmood, Sud...   \n",
       "3672  Ana Polvorosa, Candela Peña, Macarena Gómez, C...   \n",
       "3673  Alan Sabbagh, Julieta Zylberberg, Usher Barilk...   \n",
       "3674  Mario Casas, Luis Tosar, José Sacristán, Claud...   \n",
       "\n",
       "                                              listed_in  \n",
       "0                    Children & Family Movies, Comedies  \n",
       "1                                              Comedies  \n",
       "2     International Movies, Sci-Fi & Fantasy, Thrillers  \n",
       "3                                       Stand-Up Comedy  \n",
       "4                         Action & Adventure, Thrillers  \n",
       "...                                                 ...  \n",
       "3670            Dramas, International Movies, Thrillers  \n",
       "3671  Action & Adventure, International Movies, Musi...  \n",
       "3672                       Dramas, International Movies  \n",
       "3673                       Dramas, International Movies  \n",
       "3674            Dramas, International Movies, Thrillers  \n",
       "\n",
       "[3247 rows x 2 columns]"
      ]
     },
     "execution_count": 21,
     "metadata": {},
     "output_type": "execute_result"
    }
   ],
   "source": [
    "actors_and_genres3"
   ]
  },
  {
   "cell_type": "markdown",
   "metadata": {},
   "source": [
    "### Selecionar apenas gênero e atores por ano"
   ]
  },
  {
   "cell_type": "code",
   "execution_count": 28,
   "metadata": {},
   "outputs": [],
   "source": [
    "network_3_temp_actor = pd.concat([pd.Series(row['cast'], row['listed_in'].split(','))              \n",
    "                    for _, row in actors_and_genres3.iterrows()]).reset_index()\n",
    "\n",
    "network_3_temp_actor = network_3_temp_actor.rename(columns={'index': 'categoria', 0: 'ator'})\n",
    "\n",
    "network_3_actor = pd.concat([pd.Series(row[\"categoria\"], row['ator'].split(','))              \n",
    "                    for _, row in network_3_temp_actor.iterrows()]).reset_index()\n",
    "\n",
    "network_3_actor = network_3_actor.rename(columns={'index': 'ator', 0: 'categoria'})"
   ]
  },
  {
   "cell_type": "code",
   "execution_count": 29,
   "metadata": {},
   "outputs": [],
   "source": [
    "actor_genre_3 = network_3_actor.groupby('ator')['categoria'].apply(list).reset_index(name='genero') "
   ]
  },
  {
   "cell_type": "code",
   "execution_count": 36,
   "metadata": {},
   "outputs": [],
   "source": [
    "## GA\n",
    "\n",
    "actor_3 = netflix_movies_3['cast']\n",
    "actor_count_3 = pd.Series(dict(Counter(','.join(actor_3).replace(' ,',',').replace(', ',',')\n",
    "                                    .split(',')))).sort_values(ascending=False)\n",
    "\n",
    "actor_count_3 = actor_count_3.to_frame()\n",
    "\n",
    "actor_count_3.reset_index(level = 0, inplace = True)\n",
    "actor_count_3 = actor_count_3.rename(columns={'index': 'ator', 0: 'GA'})\n",
    "\n",
    "actor_count_3['EA'] = actor_count_3['GA'].apply(lambda x: 1/x)"
   ]
  },
  {
   "cell_type": "code",
   "execution_count": 37,
   "metadata": {},
   "outputs": [],
   "source": [
    "network_3_temp = pd.concat([pd.Series(row['listed_in'], row['cast'].split(','))              \n",
    "                    for _, row in actors_and_genres3.iterrows()]).reset_index()\n",
    "\n",
    "network_3_temp = network_3_temp.rename(columns={'index': 'ator', 0: 'categoria'})\n",
    "\n",
    "network_3 = pd.concat([pd.Series(row[\"ator\"], row['categoria'].split(','))              \n",
    "                    for _, row in network_3_temp.iterrows()]).reset_index()\n",
    "\n",
    "network_3 = network_3.rename(columns={'index': 'categoria', 0: 'ator'})"
   ]
  },
  {
   "cell_type": "markdown",
   "metadata": {},
   "source": [
    "### Limpando caractéres especiais"
   ]
  },
  {
   "cell_type": "code",
   "execution_count": 41,
   "metadata": {},
   "outputs": [],
   "source": [
    "for i in range(len(network_3['ator'])):\n",
    "    if \"'\" in network_3['ator'][i]:\n",
    "        network_3['ator'][i] = network_3['ator'][i].replace(\"'\", \"\")\n",
    "    if '\"' in network_3['ator'][i]:\n",
    "        network_3['ator'][i] = network_3['ator'][i].replace('\"', \"\")\n",
    "        \n",
    "    network_3['ator'][i] = unidecode.unidecode(network_3['ator'][i])"
   ]
  },
  {
   "cell_type": "markdown",
   "metadata": {},
   "source": [
    "### Código para criar o arquivo GML - 2017/2018/2019"
   ]
  },
  {
   "cell_type": "code",
   "execution_count": 42,
   "metadata": {},
   "outputs": [],
   "source": [
    "nodes1_3 = list(set(network_3['ator']))\n",
    "nodes2_3 = list(set(network_3['categoria']))\n",
    "\n",
    "temp_cat_3 = []\n",
    "temp_ator_3 = []\n",
    "temp_ator2_3 = []\n",
    "edgeCheck_3 = {}\n",
    "listweights_3 = []\n",
    "\n",
    "with io.open(\"./network2_3.gml\", \"w\") as f:\n",
    "    f.write('graph [\\n')\n",
    "    f.write('  directed 0\\n')\n",
    "\n",
    "    for i in range(len(network_3['ator'])):\n",
    "        if not network_3['ator'][i] in temp_ator_3:\n",
    "            f.write('  node [\\n')\n",
    "            f.write('    id \"{}\"\\n'.format(network_3['ator'][i]))\n",
    "            f.write('  ]\\n')\n",
    "            temp_ator_3.append(network_3['ator'][i])\n",
    "        \n",
    "    for i in range(len(network_3['categoria'])):\n",
    "        if network_3['categoria'][i][0] == ' ':\n",
    "            network_3['categoria'][i] = network_3['categoria'][i][1:]\n",
    "        if not network_3['categoria'][i] in temp_cat_3:\n",
    "            f.write('  node [\\n')\n",
    "            f.write('    id \"{}\"\\n'.format(network_3['categoria'][i]))\n",
    "            f.write('  ]\\n')\n",
    "            temp_cat_3.append(network_3['categoria'][i])\n",
    "            \n",
    "    for index, row in network_3.iterrows():\n",
    "        if row['categoria'][0] == ' ':\n",
    "            keytemp = row['ator'] + ',' + row['categoria'][1:]\n",
    "        else:\n",
    "            keytemp = row['ator'] + ',' + row['categoria']\n",
    "        \n",
    "        if keytemp in edgeCheck_3:\n",
    "            edgeCheck_3[keytemp] += 1\n",
    "        else:\n",
    "            edgeCheck_3[keytemp] = 1\n",
    "            \n",
    "    for key in edgeCheck_3:\n",
    "        ator, categoria = key.split(',')\n",
    "        weight = edgeCheck_3[key]\n",
    "        if weight > 1:\n",
    "            temp_ator2_3.append(ator)\n",
    "            listweights_3.append(weight)\n",
    "        \n",
    "        f.write('  edge [\\n')\n",
    "        f.write('    source \"{}\"\\n'.format(ator))\n",
    "        f.write('    target \"{}\"\\n'.format(categoria))\n",
    "        f.write('    weight {}\\n'.format(weight))\n",
    "        f.write('  ]\\n')  \n",
    "\n",
    "    f.write(']\\n')\n",
    "        "
   ]
  },
  {
   "cell_type": "code",
   "execution_count": 43,
   "metadata": {},
   "outputs": [],
   "source": [
    "g_3 = fm.load('network2_3.gml')"
   ]
  },
  {
   "cell_type": "markdown",
   "metadata": {},
   "source": [
    "## Transformando em uma one-mode"
   ]
  },
  {
   "cell_type": "code",
   "execution_count": 44,
   "metadata": {},
   "outputs": [],
   "source": [
    "g1_3 = fm.Graph(nx.Graph())"
   ]
  },
  {
   "cell_type": "code",
   "execution_count": 45,
   "metadata": {},
   "outputs": [],
   "source": [
    "for n in temp_ator2_3:\n",
    "    g1_3.add_node(n)"
   ]
  },
  {
   "cell_type": "code",
   "execution_count": 46,
   "metadata": {},
   "outputs": [],
   "source": [
    "for n, m in combinations(g1_3.nodes, 2):\n",
    "\n",
    "    # Muito cuidado para não usar g1 aqui!\n",
    "    # Estamos analisando os vizinhos em g2.\n",
    "    repos_n = set(g_3.neighbors(n))\n",
    "    repos_m = set(g_3.neighbors(m))\n",
    "\n",
    "    # Em sets é fácil calcular intersecção.\n",
    "    weight = len(repos_n & repos_m)\n",
    "\n",
    "    # Adicionamos só se weight for positivo.\n",
    "    if weight > 0:\n",
    "        g1_3.add_edge(n, m)\n",
    "        g1_3.edges[n, m]['weight'] = weight"
   ]
  },
  {
   "cell_type": "code",
   "execution_count": 47,
   "metadata": {},
   "outputs": [],
   "source": [
    "isolated_3 = [n for n in g1_3.nodes if g1_3.degree(n) == 0]\n",
    "\n",
    "for n in isolated_3:\n",
    "    g1_3.remove_node(n)"
   ]
  },
  {
   "cell_type": "code",
   "execution_count": 48,
   "metadata": {},
   "outputs": [],
   "source": [
    "weights_3 = [g1_3.edges[n, m]['weight'] for n, m in g1_3.edges]\n",
    "nx.write_gml(g1_3,'one_mode.gml')"
   ]
  },
  {
   "cell_type": "markdown",
   "metadata": {},
   "source": [
    "## Métricas - 2017/2018/2019"
   ]
  },
  {
   "cell_type": "code",
   "execution_count": 50,
   "metadata": {},
   "outputs": [],
   "source": [
    "# CA (r) \n",
    "\n",
    "cluster_3 = nx.clustering(g1_3)"
   ]
  },
  {
   "cell_type": "code",
   "execution_count": 51,
   "metadata": {},
   "outputs": [],
   "source": [
    "edgeCheck_genero_3 = {}\n",
    "\n",
    "for key in edgeCheck_3:\n",
    "    ator, categoria = key.split(',')\n",
    "    if ator in cluster_3.keys():\n",
    "        edgeCheck_genero_3[key] = cluster_3[ator]"
   ]
  },
  {
   "cell_type": "code",
   "execution_count": 52,
   "metadata": {},
   "outputs": [],
   "source": [
    "cluster_international_3 = []\n",
    "cluster_drama_3 = []\n",
    "cluster_comedies_3 = []\n",
    "cluster_independent_3 = []\n",
    "cluster_action_3 = []\n",
    "cluster_documentaries_3 = []\n",
    "cluster_thrillers_3 = []\n",
    "cluster_romantic_3 = []\n",
    "cluster_children_3 = []\n",
    "cluster_stand_up_3 = []\n",
    "cluster_music_3 = []\n",
    "cluster_horror_3 = []\n",
    "cluster_sports_3 = []\n",
    "cluster_scifi_3 = []\n",
    "cluster_anime_3 = []\n",
    "cluster_LGBTQ_3 = []\n",
    "cluster_classic_3 = []\n",
    "cluster_cult_3 = []\n",
    "cluster_faith_3 = []\n",
    "cluster_movies_3 = []\n",
    "\n",
    "for key in edgeCheck_genero_3:\n",
    "    ator, categoria = key.split(',')\n",
    "    if categoria == genre_count_3[0].keys()[0]:\n",
    "        cluster_international_3.append(edgeCheck_genero_3[key])\n",
    "        \n",
    "    elif categoria == genre_count_3[0].keys()[1]:\n",
    "        cluster_drama_3.append(edgeCheck_genero_3[key]) \n",
    "        \n",
    "    elif categoria == genre_count_3[0].keys()[2]:\n",
    "        cluster_comedies_3.append(edgeCheck_genero_3[key])\n",
    "        \n",
    "    elif categoria == genre_count_3[0].keys()[3]:\n",
    "        cluster_independent_3.append(edgeCheck_genero_3[key]) \n",
    "        \n",
    "    elif categoria == genre_count_3[0].keys()[4]:\n",
    "        cluster_action_3.append(edgeCheck_genero_3[key])\n",
    "        \n",
    "    elif categoria == genre_count_3[0].keys()[5]:\n",
    "        cluster_documentaries_3.append(edgeCheck_genero_3[key])\n",
    "        \n",
    "    elif categoria == genre_count_3[0].keys()[6]:\n",
    "        cluster_thrillers_3.append(edgeCheck_genero_3[key])\n",
    "        \n",
    "    elif categoria == genre_count_3[0].keys()[7]:\n",
    "        cluster_romantic_3.append(edgeCheck_genero_3[key])\n",
    " \n",
    "    elif categoria == genre_count_3[0].keys()[8]:\n",
    "        cluster_children_3.append(edgeCheck_genero_3[key]) \n",
    "        \n",
    "    elif categoria == genre_count_3[0].keys()[9]:\n",
    "        cluster_stand_up_3.append(edgeCheck_genero_3[key])\n",
    "        \n",
    "    elif categoria == genre_count_3[0].keys()[10]:\n",
    "        cluster_music_3.append(edgeCheck_genero_3[key]) \n",
    "        \n",
    "    elif categoria == genre_count_3[0].keys()[11]:\n",
    "        cluster_horror_3.append(edgeCheck_genero_3[key])\n",
    "        \n",
    "    elif categoria == genre_count_3[0].keys()[12]:\n",
    "        cluster_sports_3.append(edgeCheck_genero_3[key])\n",
    "        \n",
    "    elif categoria == genre_count_3[0].keys()[13]:\n",
    "        cluster_scifi_3.append(edgeCheck_genero_3[key])\n",
    "        \n",
    "    elif categoria == genre_count_3[0].keys()[14]:\n",
    "        cluster_anime_3.append(edgeCheck_genero_3[key])\n",
    "        \n",
    "    elif categoria == genre_count_3[0].keys()[15]:\n",
    "        cluster_LGBTQ_3.append(edgeCheck_genero_3[key]) \n",
    "        \n",
    "    elif categoria == genre_count_3[0].keys()[16]:\n",
    "        cluster_classic_3.append(edgeCheck_genero_3[key])\n",
    "        \n",
    "    elif categoria == genre_count_3[0].keys()[17]:\n",
    "        cluster_cult_3.append(edgeCheck_genero_3[key]) \n",
    "        \n",
    "    elif categoria == genre_count_3[0].keys()[18]:\n",
    "        cluster_faith_3.append(edgeCheck_genero_3[key])\n",
    "        \n",
    "    elif categoria == genre_count_3[0].keys()[19]:\n",
    "        cluster_movies_3.append(edgeCheck_genero_3[key])\n",
    "    \n",
    "    else:\n",
    "        print(\"deu errado\", key)"
   ]
  },
  {
   "cell_type": "code",
   "execution_count": 53,
   "metadata": {},
   "outputs": [],
   "source": [
    "cluster_international_mean_3 = statistics.mean(cluster_international_3)\n",
    "cluster_drama_mean_3 = statistics.mean(cluster_drama_3)\n",
    "cluster_comedies_mean_3 = statistics.mean(cluster_comedies_3)\n",
    "cluster_independent_mean_3 = statistics.mean(cluster_independent_3)\n",
    "cluster_action_mean_3 = statistics.mean(cluster_action_3)\n",
    "cluster_documentaries_mean_3 = statistics.mean(cluster_documentaries_3)\n",
    "cluster_thrillers_mean_3 = statistics.mean(cluster_thrillers_3)\n",
    "cluster_romantic_mean_3 = statistics.mean(cluster_romantic_3)\n",
    "cluster_children_mean_3 = statistics.mean(cluster_children_3)\n",
    "cluster_stand_up_mean_3 = 0\n",
    "# = statistics.mean(cluster_stand_up)\n",
    "cluster_music_mean_3 = statistics.mean(cluster_music_3)\n",
    "cluster_horror_mean_3 = statistics.mean(cluster_horror_3)\n",
    "cluster_sports_mean_3 = statistics.mean(cluster_sports_3)\n",
    "cluster_scifi_mean_3 = statistics.mean(cluster_scifi_3)\n",
    "cluster_anime_mean_3 = statistics.mean(cluster_anime_3)\n",
    "cluster_LGBTQ_mean_3 = statistics.mean(cluster_LGBTQ_3)\n",
    "cluster_classic_mean_3 = statistics.mean(cluster_classic_3)\n",
    "cluster_cult_mean_3 = statistics.mean(cluster_cult_3)\n",
    "cluster_faith_mean_3 = statistics.mean(cluster_faith_3)\n",
    "cluster_movies_mean_3 = statistics.mean(cluster_movies_3)"
   ]
  },
  {
   "cell_type": "markdown",
   "metadata": {},
   "source": [
    "### Regressão Linear entre a média dos cluster e a popularidade dos gêneros - 2017/2018/2019"
   ]
  },
  {
   "cell_type": "code",
   "execution_count": 54,
   "metadata": {},
   "outputs": [],
   "source": [
    "cluster_mean_3 = []\n",
    "cluster_mean_3.extend((cluster_international_mean_3, cluster_drama_mean_3,cluster_comedies_mean_3,\n",
    "                          cluster_independent_mean_3, cluster_action_mean_3, cluster_documentaries_mean_3,\n",
    "                          cluster_thrillers_mean_3, cluster_romantic_mean_3, cluster_children_mean_3, \n",
    "                          cluster_stand_up_mean_3, cluster_music_mean_3, cluster_horror_mean_3, \n",
    "                          cluster_sports_mean_3, cluster_scifi_mean_3, cluster_anime_mean_3, cluster_LGBTQ_mean_3, \n",
    "                          cluster_classic_mean_3, cluster_cult_mean_3, cluster_faith_mean_3, cluster_movies_mean_3))\n",
    "\n",
    "movies_count_3 = []\n",
    "for i in range(0, len(genre_count_3[0])):\n",
    "    movies_count_3.append(genre_count_3[0][i])"
   ]
  },
  {
   "cell_type": "code",
   "execution_count": 58,
   "metadata": {
    "scrolled": false
   },
   "outputs": [
    {
     "data": {
      "text/html": [
       "<table class=\"simpletable\">\n",
       "<caption>OLS Regression Results</caption>\n",
       "<tr>\n",
       "  <th>Dep. Variable:</th>            <td>y</td>        <th>  R-squared (uncentered):</th>      <td>   0.396</td>\n",
       "</tr>\n",
       "<tr>\n",
       "  <th>Model:</th>                   <td>OLS</td>       <th>  Adj. R-squared (uncentered):</th> <td>   0.364</td>\n",
       "</tr>\n",
       "<tr>\n",
       "  <th>Method:</th>             <td>Least Squares</td>  <th>  F-statistic:       </th>          <td>   12.45</td>\n",
       "</tr>\n",
       "<tr>\n",
       "  <th>Date:</th>             <td>Mon, 23 Nov 2020</td> <th>  Prob (F-statistic):</th>           <td>0.00225</td>\n",
       "</tr>\n",
       "<tr>\n",
       "  <th>Time:</th>                 <td>13:23:14</td>     <th>  Log-Likelihood:    </th>          <td> -21.268</td>\n",
       "</tr>\n",
       "<tr>\n",
       "  <th>No. Observations:</th>      <td>    20</td>      <th>  AIC:               </th>          <td>   44.54</td>\n",
       "</tr>\n",
       "<tr>\n",
       "  <th>Df Residuals:</th>          <td>    19</td>      <th>  BIC:               </th>          <td>   45.53</td>\n",
       "</tr>\n",
       "<tr>\n",
       "  <th>Df Model:</th>              <td>     1</td>      <th>                     </th>              <td> </td>   \n",
       "</tr>\n",
       "<tr>\n",
       "  <th>Covariance Type:</th>      <td>nonrobust</td>    <th>                     </th>              <td> </td>   \n",
       "</tr>\n",
       "</table>\n",
       "<table class=\"simpletable\">\n",
       "<tr>\n",
       "   <td></td>     <th>coef</th>     <th>std err</th>      <th>t</th>      <th>P>|t|</th>  <th>[0.025</th>    <th>0.975]</th>  \n",
       "</tr>\n",
       "<tr>\n",
       "  <th>x1</th> <td>    7.1978</td> <td>    2.040</td> <td>    3.528</td> <td> 0.002</td> <td>    2.928</td> <td>   11.468</td>\n",
       "</tr>\n",
       "</table>\n",
       "<table class=\"simpletable\">\n",
       "<tr>\n",
       "  <th>Omnibus:</th>       <td> 8.858</td> <th>  Durbin-Watson:     </th> <td>   0.227</td>\n",
       "</tr>\n",
       "<tr>\n",
       "  <th>Prob(Omnibus):</th> <td> 0.012</td> <th>  Jarque-Bera (JB):  </th> <td>   6.708</td>\n",
       "</tr>\n",
       "<tr>\n",
       "  <th>Skew:</th>          <td>-1.382</td> <th>  Prob(JB):          </th> <td>  0.0349</td>\n",
       "</tr>\n",
       "<tr>\n",
       "  <th>Kurtosis:</th>      <td> 3.637</td> <th>  Cond. No.          </th> <td>    1.00</td>\n",
       "</tr>\n",
       "</table><br/><br/>Notes:<br/>[1] R² is computed without centering (uncentered) since the model does not contain a constant.<br/>[2] Standard Errors assume that the covariance matrix of the errors is correctly specified."
      ],
      "text/plain": [
       "<class 'statsmodels.iolib.summary.Summary'>\n",
       "\"\"\"\n",
       "                                 OLS Regression Results                                \n",
       "=======================================================================================\n",
       "Dep. Variable:                      y   R-squared (uncentered):                   0.396\n",
       "Model:                            OLS   Adj. R-squared (uncentered):              0.364\n",
       "Method:                 Least Squares   F-statistic:                              12.45\n",
       "Date:                Mon, 23 Nov 2020   Prob (F-statistic):                     0.00225\n",
       "Time:                        13:23:14   Log-Likelihood:                         -21.268\n",
       "No. Observations:                  20   AIC:                                      44.54\n",
       "Df Residuals:                      19   BIC:                                      45.53\n",
       "Df Model:                           1                                                  \n",
       "Covariance Type:            nonrobust                                                  \n",
       "==============================================================================\n",
       "                 coef    std err          t      P>|t|      [0.025      0.975]\n",
       "------------------------------------------------------------------------------\n",
       "x1             7.1978      2.040      3.528      0.002       2.928      11.468\n",
       "==============================================================================\n",
       "Omnibus:                        8.858   Durbin-Watson:                   0.227\n",
       "Prob(Omnibus):                  0.012   Jarque-Bera (JB):                6.708\n",
       "Skew:                          -1.382   Prob(JB):                       0.0349\n",
       "Kurtosis:                       3.637   Cond. No.                         1.00\n",
       "==============================================================================\n",
       "\n",
       "Notes:\n",
       "[1] R² is computed without centering (uncentered) since the model does not contain a constant.\n",
       "[2] Standard Errors assume that the covariance matrix of the errors is correctly specified.\n",
       "\"\"\""
      ]
     },
     "execution_count": 58,
     "metadata": {},
     "output_type": "execute_result"
    }
   ],
   "source": [
    "lin_reg_3 = sm.OLS(cluster_mean_3, movies_count_3)\n",
    "result_3 = lin_reg_3.fit()\n",
    "result_3.summary()"
   ]
  },
  {
   "cell_type": "markdown",
   "metadata": {},
   "source": [
    "### Teste de hipótese (teste-t) - 2017/2018/2019"
   ]
  },
  {
   "cell_type": "code",
   "execution_count": 59,
   "metadata": {},
   "outputs": [],
   "source": [
    "def rSubset(arr, r): \n",
    "    # return list of all subsets of length r \n",
    "    # to deal with duplicate subsets use \n",
    "    # set(list(combinations(arr, r))) \n",
    "    return list(combinations(arr, r)) "
   ]
  },
  {
   "cell_type": "code",
   "execution_count": 60,
   "metadata": {},
   "outputs": [
    {
     "name": "stdout",
     "output_type": "stream",
     "text": [
      "Duplas com P-valor bom:  International Movies e Dramas\n",
      "Duplas com P-valor bom:  International Movies e Comedies\n",
      "Duplas com P-valor bom:  International Movies e Action & Adventure\n",
      "Duplas com P-valor bom:  International Movies e Independent Movies\n",
      "Duplas com P-valor ruim:  International Movies e Thrillers\n",
      "Duplas com P-valor bom:  International Movies e Romantic Movies\n",
      "Duplas com P-valor bom:  International Movies e Children & Family Movies\n",
      "Duplas com P-valor bom:  International Movies e Documentaries\n",
      "Duplas com P-valor ruim:  International Movies e Horror Movies\n",
      "Duplas com P-valor bom:  International Movies e Stand-Up Comedy\n",
      "Duplas com P-valor bom:  International Movies e Music & Musicals\n",
      "Duplas com P-valor bom:  International Movies e Sci-Fi & Fantasy\n",
      "Duplas com P-valor ruim:  International Movies e Sports Movies\n",
      "Duplas com P-valor bom:  International Movies e Classic Movies\n",
      "Duplas com P-valor bom:  International Movies e LGBTQ Movies\n",
      "Duplas com P-valor bom:  International Movies e Cult Movies\n",
      "Duplas com P-valor ruim:  International Movies e Faith & Spirituality\n",
      "Duplas com P-valor bom:  International Movies e Anime Features\n",
      "Duplas com P-valor bom:  International Movies e Movies\n",
      "Duplas com P-valor bom:  Dramas e Comedies\n",
      "Duplas com P-valor bom:  Dramas e Action & Adventure\n",
      "Duplas com P-valor ruim:  Dramas e Independent Movies\n",
      "Duplas com P-valor ruim:  Dramas e Thrillers\n",
      "Duplas com P-valor ruim:  Dramas e Romantic Movies\n",
      "Duplas com P-valor bom:  Dramas e Children & Family Movies\n",
      "Duplas com P-valor bom:  Dramas e Documentaries\n",
      "Duplas com P-valor bom:  Dramas e Horror Movies\n",
      "Duplas com P-valor bom:  Dramas e Stand-Up Comedy\n",
      "Duplas com P-valor bom:  Dramas e Music & Musicals\n",
      "Duplas com P-valor bom:  Dramas e Sci-Fi & Fantasy\n",
      "Duplas com P-valor ruim:  Dramas e Sports Movies\n",
      "Duplas com P-valor bom:  Dramas e Classic Movies\n",
      "Duplas com P-valor bom:  Dramas e LGBTQ Movies\n",
      "Duplas com P-valor bom:  Dramas e Cult Movies\n",
      "Duplas com P-valor ruim:  Dramas e Faith & Spirituality\n",
      "Duplas com P-valor bom:  Dramas e Anime Features\n",
      "Duplas com P-valor bom:  Dramas e Movies\n",
      "Duplas com P-valor ruim:  Comedies e Action & Adventure\n",
      "Duplas com P-valor bom:  Comedies e Independent Movies\n",
      "Duplas com P-valor bom:  Comedies e Thrillers\n",
      "Duplas com P-valor bom:  Comedies e Romantic Movies\n",
      "Duplas com P-valor bom:  Comedies e Children & Family Movies\n",
      "Duplas com P-valor bom:  Comedies e Documentaries\n",
      "Duplas com P-valor bom:  Comedies e Horror Movies\n",
      "Duplas com P-valor bom:  Comedies e Stand-Up Comedy\n",
      "Duplas com P-valor ruim:  Comedies e Music & Musicals\n",
      "Duplas com P-valor ruim:  Comedies e Sci-Fi & Fantasy\n",
      "Duplas com P-valor bom:  Comedies e Sports Movies\n",
      "Duplas com P-valor bom:  Comedies e Classic Movies\n",
      "Duplas com P-valor bom:  Comedies e LGBTQ Movies\n",
      "Duplas com P-valor bom:  Comedies e Cult Movies\n",
      "Duplas com P-valor bom:  Comedies e Faith & Spirituality\n",
      "Duplas com P-valor bom:  Comedies e Anime Features\n",
      "Duplas com P-valor bom:  Comedies e Movies\n",
      "Duplas com P-valor bom:  Action & Adventure e Independent Movies\n",
      "Duplas com P-valor bom:  Action & Adventure e Thrillers\n",
      "Duplas com P-valor bom:  Action & Adventure e Romantic Movies\n",
      "Duplas com P-valor bom:  Action & Adventure e Children & Family Movies\n",
      "Duplas com P-valor bom:  Action & Adventure e Documentaries\n",
      "Duplas com P-valor bom:  Action & Adventure e Horror Movies\n",
      "Duplas com P-valor bom:  Action & Adventure e Stand-Up Comedy\n",
      "Duplas com P-valor ruim:  Action & Adventure e Music & Musicals\n",
      "Duplas com P-valor ruim:  Action & Adventure e Sci-Fi & Fantasy\n",
      "Duplas com P-valor bom:  Action & Adventure e Sports Movies\n",
      "Duplas com P-valor ruim:  Action & Adventure e Classic Movies\n",
      "Duplas com P-valor bom:  Action & Adventure e LGBTQ Movies\n",
      "Duplas com P-valor ruim:  Action & Adventure e Cult Movies\n",
      "Duplas com P-valor bom:  Action & Adventure e Faith & Spirituality\n",
      "Duplas com P-valor bom:  Action & Adventure e Anime Features\n",
      "Duplas com P-valor bom:  Action & Adventure e Movies\n",
      "Duplas com P-valor ruim:  Independent Movies e Thrillers\n",
      "Duplas com P-valor ruim:  Independent Movies e Romantic Movies\n",
      "Duplas com P-valor bom:  Independent Movies e Children & Family Movies\n",
      "Duplas com P-valor bom:  Independent Movies e Documentaries\n",
      "Duplas com P-valor bom:  Independent Movies e Horror Movies\n",
      "Duplas com P-valor bom:  Independent Movies e Stand-Up Comedy\n",
      "Duplas com P-valor bom:  Independent Movies e Music & Musicals\n",
      "Duplas com P-valor bom:  Independent Movies e Sci-Fi & Fantasy\n",
      "Duplas com P-valor ruim:  Independent Movies e Sports Movies\n",
      "Duplas com P-valor ruim:  Independent Movies e Classic Movies\n",
      "Duplas com P-valor bom:  Independent Movies e LGBTQ Movies\n",
      "Duplas com P-valor bom:  Independent Movies e Cult Movies\n",
      "Duplas com P-valor ruim:  Independent Movies e Faith & Spirituality\n",
      "Duplas com P-valor bom:  Independent Movies e Anime Features\n",
      "Duplas com P-valor bom:  Independent Movies e Movies\n",
      "Duplas com P-valor bom:  Thrillers e Romantic Movies\n",
      "Duplas com P-valor bom:  Thrillers e Children & Family Movies\n",
      "Duplas com P-valor bom:  Thrillers e Documentaries\n",
      "Duplas com P-valor ruim:  Thrillers e Horror Movies\n",
      "Duplas com P-valor bom:  Thrillers e Stand-Up Comedy\n",
      "Duplas com P-valor bom:  Thrillers e Music & Musicals\n",
      "Duplas com P-valor bom:  Thrillers e Sci-Fi & Fantasy\n",
      "Duplas com P-valor ruim:  Thrillers e Sports Movies\n",
      "Duplas com P-valor bom:  Thrillers e Classic Movies\n",
      "Duplas com P-valor bom:  Thrillers e LGBTQ Movies\n",
      "Duplas com P-valor bom:  Thrillers e Cult Movies\n",
      "Duplas com P-valor ruim:  Thrillers e Faith & Spirituality\n",
      "Duplas com P-valor bom:  Thrillers e Anime Features\n",
      "Duplas com P-valor bom:  Thrillers e Movies\n",
      "Duplas com P-valor bom:  Romantic Movies e Children & Family Movies\n",
      "Duplas com P-valor bom:  Romantic Movies e Documentaries\n",
      "Duplas com P-valor bom:  Romantic Movies e Horror Movies\n",
      "Duplas com P-valor bom:  Romantic Movies e Stand-Up Comedy\n",
      "Duplas com P-valor bom:  Romantic Movies e Music & Musicals\n",
      "Duplas com P-valor bom:  Romantic Movies e Sci-Fi & Fantasy\n",
      "Duplas com P-valor ruim:  Romantic Movies e Sports Movies\n",
      "Duplas com P-valor ruim:  Romantic Movies e Classic Movies\n",
      "Duplas com P-valor bom:  Romantic Movies e LGBTQ Movies\n",
      "Duplas com P-valor ruim:  Romantic Movies e Cult Movies\n",
      "Duplas com P-valor bom:  Romantic Movies e Faith & Spirituality\n",
      "Duplas com P-valor bom:  Romantic Movies e Anime Features\n",
      "Duplas com P-valor bom:  Romantic Movies e Movies\n",
      "Duplas com P-valor bom:  Children & Family Movies e Documentaries\n",
      "Duplas com P-valor bom:  Children & Family Movies e Horror Movies\n",
      "Duplas com P-valor bom:  Children & Family Movies e Stand-Up Comedy\n",
      "Duplas com P-valor bom:  Children & Family Movies e Music & Musicals\n",
      "Duplas com P-valor bom:  Children & Family Movies e Sci-Fi & Fantasy\n",
      "Duplas com P-valor bom:  Children & Family Movies e Sports Movies\n",
      "Duplas com P-valor bom:  Children & Family Movies e Classic Movies\n",
      "Duplas com P-valor bom:  Children & Family Movies e LGBTQ Movies\n",
      "Duplas com P-valor bom:  Children & Family Movies e Cult Movies\n",
      "Duplas com P-valor bom:  Children & Family Movies e Faith & Spirituality\n",
      "Duplas com P-valor bom:  Children & Family Movies e Anime Features\n",
      "Duplas com P-valor bom:  Children & Family Movies e Movies\n",
      "Duplas com P-valor bom:  Documentaries e Horror Movies\n",
      "Duplas com P-valor ruim:  Documentaries e Stand-Up Comedy\n",
      "Duplas com P-valor bom:  Documentaries e Music & Musicals\n",
      "Duplas com P-valor bom:  Documentaries e Sci-Fi & Fantasy\n",
      "Duplas com P-valor bom:  Documentaries e Sports Movies\n",
      "Duplas com P-valor bom:  Documentaries e Classic Movies\n",
      "Duplas com P-valor ruim:  Documentaries e LGBTQ Movies\n",
      "Duplas com P-valor bom:  Documentaries e Cult Movies\n",
      "Duplas com P-valor ruim:  Documentaries e Faith & Spirituality\n",
      "Duplas com P-valor ruim:  Documentaries e Anime Features\n",
      "Duplas com P-valor ruim:  Documentaries e Movies\n",
      "Duplas com P-valor bom:  Horror Movies e Stand-Up Comedy\n",
      "Duplas com P-valor bom:  Horror Movies e Music & Musicals\n",
      "Duplas com P-valor bom:  Horror Movies e Sci-Fi & Fantasy\n",
      "Duplas com P-valor ruim:  Horror Movies e Sports Movies\n",
      "Duplas com P-valor bom:  Horror Movies e Classic Movies\n",
      "Duplas com P-valor bom:  Horror Movies e LGBTQ Movies\n",
      "Duplas com P-valor bom:  Horror Movies e Cult Movies\n",
      "Duplas com P-valor ruim:  Horror Movies e Faith & Spirituality\n",
      "Duplas com P-valor bom:  Horror Movies e Anime Features\n",
      "Duplas com P-valor bom:  Horror Movies e Movies\n",
      "Duplas com P-valor bom:  Stand-Up Comedy e Music & Musicals\n",
      "Duplas com P-valor bom:  Stand-Up Comedy e Sci-Fi & Fantasy\n",
      "Duplas com P-valor bom:  Stand-Up Comedy e Sports Movies\n",
      "Duplas com P-valor bom:  Stand-Up Comedy e Classic Movies\n",
      "Duplas com P-valor bom:  Stand-Up Comedy e LGBTQ Movies\n",
      "Duplas com P-valor bom:  Stand-Up Comedy e Cult Movies\n",
      "Duplas com P-valor bom:  Stand-Up Comedy e Faith & Spirituality\n",
      "Duplas com P-valor ruim:  Stand-Up Comedy e Anime Features\n",
      "Duplas com P-valor ruim:  Stand-Up Comedy e Movies\n",
      "Duplas com P-valor ruim:  Music & Musicals e Sci-Fi & Fantasy\n",
      "Duplas com P-valor bom:  Music & Musicals e Sports Movies\n",
      "Duplas com P-valor bom:  Music & Musicals e Classic Movies\n",
      "Duplas com P-valor bom:  Music & Musicals e LGBTQ Movies\n",
      "Duplas com P-valor bom:  Music & Musicals e Cult Movies\n",
      "Duplas com P-valor bom:  Music & Musicals e Faith & Spirituality\n",
      "Duplas com P-valor bom:  Music & Musicals e Anime Features\n",
      "Duplas com P-valor bom:  Music & Musicals e Movies\n",
      "Duplas com P-valor bom:  Sci-Fi & Fantasy e Sports Movies\n",
      "Duplas com P-valor bom:  Sci-Fi & Fantasy e Classic Movies\n",
      "Duplas com P-valor bom:  Sci-Fi & Fantasy e LGBTQ Movies\n",
      "Duplas com P-valor bom:  Sci-Fi & Fantasy e Cult Movies\n",
      "Duplas com P-valor bom:  Sci-Fi & Fantasy e Faith & Spirituality\n",
      "Duplas com P-valor bom:  Sci-Fi & Fantasy e Anime Features\n",
      "Duplas com P-valor bom:  Sci-Fi & Fantasy e Movies\n"
     ]
    },
    {
     "name": "stdout",
     "output_type": "stream",
     "text": [
      "Duplas com P-valor bom:  Sports Movies e Classic Movies\n",
      "Duplas com P-valor bom:  Sports Movies e LGBTQ Movies\n",
      "Duplas com P-valor bom:  Sports Movies e Cult Movies\n",
      "Duplas com P-valor ruim:  Sports Movies e Faith & Spirituality\n",
      "Duplas com P-valor bom:  Sports Movies e Anime Features\n",
      "Duplas com P-valor bom:  Sports Movies e Movies\n",
      "Duplas com P-valor bom:  Classic Movies e LGBTQ Movies\n",
      "Duplas com P-valor ruim:  Classic Movies e Cult Movies\n",
      "Duplas com P-valor bom:  Classic Movies e Faith & Spirituality\n",
      "Duplas com P-valor bom:  Classic Movies e Anime Features\n",
      "Duplas com P-valor bom:  Classic Movies e Movies\n",
      "Duplas com P-valor bom:  LGBTQ Movies e Cult Movies\n",
      "Duplas com P-valor ruim:  LGBTQ Movies e Faith & Spirituality\n",
      "Duplas com P-valor ruim:  LGBTQ Movies e Anime Features\n",
      "Duplas com P-valor bom:  LGBTQ Movies e Movies\n",
      "Duplas com P-valor bom:  Cult Movies e Faith & Spirituality\n",
      "Duplas com P-valor bom:  Cult Movies e Anime Features\n",
      "Duplas com P-valor bom:  Cult Movies e Movies\n",
      "Duplas com P-valor bom:  Faith & Spirituality e Anime Features\n",
      "Duplas com P-valor bom:  Faith & Spirituality e Movies\n",
      "Duplas com P-valor ruim:  Anime Features e Movies\n",
      "148\n",
      "42\n"
     ]
    }
   ],
   "source": [
    "arr_3 = [cluster_international_3,cluster_drama_3,cluster_comedies_3,cluster_independent_3,cluster_action_3,\n",
    "            cluster_documentaries_3,cluster_thrillers_3,cluster_romantic_3,cluster_children_3,cluster_stand_up_3,\n",
    "            cluster_music_3,cluster_horror_3,cluster_sports_3,cluster_scifi_3,cluster_anime_3,cluster_LGBTQ_3,\n",
    "            cluster_classic_3,cluster_cult_3,cluster_faith_3,cluster_movies_3]\n",
    "\n",
    "indexes_3 = [0,1,2,3,4,5,6,7,8,9,10,11,12,13,14,15,16,17,18,19]\n",
    "\n",
    "dupla_indexes_3 = rSubset(indexes_3, 2)\n",
    "p_valor_bom_3 = 0\n",
    "p_valor_ruim_3 = 0\n",
    "\n",
    "for i in range(len(dupla_indexes_3)):\n",
    "    if ttest_ind(arr_3[dupla_indexes_3[i][0]], arr_3[dupla_indexes_3[i][1]])[1] <= 0.05:\n",
    "        print(\"Duplas com P-valor bom: \", genre_count_3[0].keys()[dupla_indexes_3[i][0]], \"e\", genre_count_3[0].keys()[dupla_indexes_3[i][1]])\n",
    "        p_valor_bom_3 += 1\n",
    "    else:\n",
    "        print(\"Duplas com P-valor ruim: \", genre_count_3[0].keys()[dupla_indexes_3[i][0]], \"e\", genre_count_3[0].keys()[dupla_indexes_3[i][1]])\n",
    "        p_valor_ruim_3 +=1\n",
    "        \n",
    "print(p_valor_bom_3)\n",
    "print(p_valor_ruim_3)"
   ]
  },
  {
   "cell_type": "code",
   "execution_count": null,
   "metadata": {},
   "outputs": [],
   "source": []
  }
 ],
 "metadata": {
  "deepnote_execution_queue": [],
  "deepnote_notebook_id": "00d7bd83-6080-4b58-a22e-e6407c673d6c",
  "kernelspec": {
   "display_name": "Python 3",
   "language": "python",
   "name": "python3"
  },
  "language_info": {
   "codemirror_mode": {
    "name": "ipython",
    "version": 3
   },
   "file_extension": ".py",
   "mimetype": "text/x-python",
   "name": "python",
   "nbconvert_exporter": "python",
   "pygments_lexer": "ipython3",
   "version": "3.8.6"
  }
 },
 "nbformat": 4,
 "nbformat_minor": 4
}
